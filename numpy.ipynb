{
  "nbformat": 4,
  "nbformat_minor": 0,
  "metadata": {
    "colab": {
      "provenance": [],
      "collapsed_sections": [],
      "authorship_tag": "ABX9TyPGjAZRajvqrqwwvJ5XNboq",
      "include_colab_link": true
    },
    "kernelspec": {
      "name": "python3",
      "display_name": "Python 3"
    },
    "language_info": {
      "name": "python"
    }
  },
  "cells": [
    {
      "cell_type": "markdown",
      "metadata": {
        "id": "view-in-github",
        "colab_type": "text"
      },
      "source": [
        "<a href=\"https://colab.research.google.com/github/cosraj/hashicat-aws/blob/master/numpy.ipynb\" target=\"_parent\"><img src=\"https://colab.research.google.com/assets/colab-badge.svg\" alt=\"Open In Colab\"/></a>"
      ]
    },
    {
      "cell_type": "code",
      "execution_count": 1,
      "metadata": {
        "colab": {
          "base_uri": "https://localhost:8080/"
        },
        "id": "DtWKO_Y6HGot",
        "outputId": "7db249be-578e-45d5-a376-7f05874fb19a"
      },
      "outputs": [
        {
          "output_type": "execute_result",
          "data": {
            "text/plain": [
              "array([0, 1, 2, 3, 4, 5, 6, 7, 8, 9])"
            ]
          },
          "metadata": {},
          "execution_count": 1
        }
      ],
      "source": [
        "import numpy as np\n",
        "np.arange(0,10)\n"
      ]
    },
    {
      "cell_type": "markdown",
      "source": [
        "Array indexing"
      ],
      "metadata": {
        "id": "HGQhlHYqLx6v"
      }
    },
    {
      "cell_type": "code",
      "source": [
        "arr1 = np.arange(0,11)\n",
        "arr1\n",
        "np.sum(arr1)\n",
        "arr1[8:]"
      ],
      "metadata": {
        "colab": {
          "base_uri": "https://localhost:8080/"
        },
        "id": "sk2055bQL0Rx",
        "outputId": "00eaad9f-6589-415c-b6a2-33a19c83a2fa"
      },
      "execution_count": null,
      "outputs": [
        {
          "output_type": "execute_result",
          "data": {
            "text/plain": [
              "array([ 8,  9, 10])"
            ]
          },
          "metadata": {},
          "execution_count": 7
        }
      ]
    },
    {
      "cell_type": "markdown",
      "source": [
        "np.reshape() is a useful method for reshaping arrays"
      ],
      "metadata": {
        "id": "aSqvf8S7Z4VP"
      }
    },
    {
      "cell_type": "code",
      "source": [
        "arr = np.random.randint(0,25,10\n",
        "                        )"
      ],
      "metadata": {
        "id": "G6CrihGjZ8i3"
      },
      "execution_count": null,
      "outputs": []
    },
    {
      "cell_type": "code",
      "source": [
        "arr"
      ],
      "metadata": {
        "colab": {
          "base_uri": "https://localhost:8080/"
        },
        "id": "PY5YRItEaEI9",
        "outputId": "afe210cb-5752-4808-98e9-55a80e0da731"
      },
      "execution_count": null,
      "outputs": [
        {
          "output_type": "execute_result",
          "data": {
            "text/plain": [
              "array([ 3, 11, 14, 13, 22,  3, 16, 14,  2, 10])"
            ]
          },
          "metadata": {},
          "execution_count": 3
        }
      ]
    },
    {
      "cell_type": "code",
      "source": [
        "arr.reshape(2,5)\n",
        "arr.max()\n",
        "arr.argmax()"
      ],
      "metadata": {
        "colab": {
          "base_uri": "https://localhost:8080/"
        },
        "id": "8v4daWw3aaxs",
        "outputId": "a7f22f8d-af11-49cc-c29c-744952a3dd70"
      },
      "execution_count": null,
      "outputs": [
        {
          "output_type": "execute_result",
          "data": {
            "text/plain": [
              "4"
            ]
          },
          "metadata": {},
          "execution_count": 10
        }
      ]
    },
    {
      "cell_type": "markdown",
      "source": [
        "np.eye() method returns the identity matrix"
      ],
      "metadata": {
        "id": "kcfh614nHUfi"
      }
    },
    {
      "cell_type": "code",
      "source": [
        "np.eye(9)"
      ],
      "metadata": {
        "colab": {
          "base_uri": "https://localhost:8080/"
        },
        "id": "kfXPFGDgHYMi",
        "outputId": "3143ac98-23ef-4b1d-8c95-7967e3cdf153"
      },
      "execution_count": null,
      "outputs": [
        {
          "output_type": "execute_result",
          "data": {
            "text/plain": [
              "array([[1., 0., 0., 0., 0., 0., 0., 0., 0.],\n",
              "       [0., 1., 0., 0., 0., 0., 0., 0., 0.],\n",
              "       [0., 0., 1., 0., 0., 0., 0., 0., 0.],\n",
              "       [0., 0., 0., 1., 0., 0., 0., 0., 0.],\n",
              "       [0., 0., 0., 0., 1., 0., 0., 0., 0.],\n",
              "       [0., 0., 0., 0., 0., 1., 0., 0., 0.],\n",
              "       [0., 0., 0., 0., 0., 0., 1., 0., 0.],\n",
              "       [0., 0., 0., 0., 0., 0., 0., 1., 0.],\n",
              "       [0., 0., 0., 0., 0., 0., 0., 0., 1.]])"
            ]
          },
          "metadata": {},
          "execution_count": 3
        }
      ]
    },
    {
      "cell_type": "code",
      "source": [
        "arr2 = np.arange(0,10)\n",
        "print(\"Original Array\",arr2)\n",
        "slice_arr2 = arr2[0:5]\n",
        "print(\"Slice array\",slice_arr2)\n",
        "slice_arr2[:] = 100\n",
        "print(\"Slice array after broadcast\",slice_arr2)\n",
        "print(\"Original array also impacted by broadcasing \",arr2)\n",
        "arr3 = np.arange(0,10)\n",
        "print(\"another original array\", arr3)\n",
        "arr3_copy = arr3.copy()\n",
        "print(\"copy of arr3\", arr3_copy)\n",
        "arr3[:] = 100\n",
        "print(\"Original array after broadcast\", arr3)\n",
        "print(\"Copy is not changed due to broadcast \",arr3_copy)"
      ],
      "metadata": {
        "colab": {
          "base_uri": "https://localhost:8080/"
        },
        "id": "KekY00vnGsa9",
        "outputId": "596e81d9-737d-4b15-85ff-0b30fbc8974e"
      },
      "execution_count": null,
      "outputs": [
        {
          "output_type": "stream",
          "name": "stdout",
          "text": [
            "Original Array [0 1 2 3 4 5 6 7 8 9]\n",
            "Slice array [0 1 2 3 4]\n",
            "Slice array after broadcast [100 100 100 100 100]\n",
            "Original array also impacted by broadcasing  [100 100 100 100 100   5   6   7   8   9]\n",
            "another original array [0 1 2 3 4 5 6 7 8 9]\n",
            "copy of arr3 [0 1 2 3 4 5 6 7 8 9]\n",
            "Original array after broadcast [100 100 100 100 100 100 100 100 100 100]\n",
            "Copy is not changed due to broadcast  [0 1 2 3 4 5 6 7 8 9]\n"
          ]
        }
      ]
    },
    {
      "cell_type": "code",
      "source": [
        "arr_2d = np.array([[5,10,15],[20,25,30],[35,40,45]])\n",
        "print(\"2D array\", arr_2d)\n",
        "print(arr_2d[:2,1:])"
      ],
      "metadata": {
        "colab": {
          "base_uri": "https://localhost:8080/"
        },
        "id": "1OpDFmvxK7LL",
        "outputId": "1ac97928-0327-41e6-eeff-a28ff08dad93"
      },
      "execution_count": null,
      "outputs": [
        {
          "output_type": "stream",
          "name": "stdout",
          "text": [
            "2D array [[ 5 10 15]\n",
            " [20 25 30]\n",
            " [35 40 45]]\n",
            "[[10 15]\n",
            " [25 30]]\n"
          ]
        }
      ]
    },
    {
      "cell_type": "code",
      "source": [
        "arr4 = np.arange(0,25,5)\n",
        "print(arr4)\n",
        "arr5 = arr4[arr4 < 10]\n",
        "print(arr5)"
      ],
      "metadata": {
        "colab": {
          "base_uri": "https://localhost:8080/"
        },
        "id": "jIDyY3fkNF8h",
        "outputId": "7ed4429b-7d34-4854-d643-9ec80bc309e5"
      },
      "execution_count": null,
      "outputs": [
        {
          "output_type": "stream",
          "name": "stdout",
          "text": [
            "[ 0  5 10 15 20]\n",
            "[0 5]\n"
          ]
        }
      ]
    },
    {
      "cell_type": "code",
      "source": [
        "arr5 = np.arange(0,10)\n",
        "print(arr5)\n",
        "arr6 = arr5 * 5\n",
        "print(\"Multiplying an array with a scalar \",arr6)\n",
        "print(\"Multiplying an array with itself\",arr5 * arr5)"
      ],
      "metadata": {
        "colab": {
          "base_uri": "https://localhost:8080/"
        },
        "id": "xBLHIhzOQpZb",
        "outputId": "50e29d8a-1ba7-427b-c917-8f17a09e76cf"
      },
      "execution_count": null,
      "outputs": [
        {
          "output_type": "stream",
          "name": "stdout",
          "text": [
            "[0 1 2 3 4 5 6 7 8 9]\n",
            "Multiplying an array with a scalar  [ 0  5 10 15 20 25 30 35 40 45]\n",
            "Multiplying an array with itself [ 0  1  4  9 16 25 36 49 64 81]\n"
          ]
        }
      ]
    },
    {
      "cell_type": "markdown",
      "source": [
        "Udemy exerices for Pandas"
      ],
      "metadata": {
        "id": "b9JXc2KZlp4w"
      }
    },
    {
      "cell_type": "code",
      "source": [
        "import numpy as np"
      ],
      "metadata": {
        "id": "KsIz8ma3ls-N"
      },
      "execution_count": null,
      "outputs": []
    },
    {
      "cell_type": "code",
      "source": [
        "zarray = np.zeros(10)\n",
        "print(zarray)"
      ],
      "metadata": {
        "colab": {
          "base_uri": "https://localhost:8080/"
        },
        "id": "_EbftKSXl4DU",
        "outputId": "79387d20-d9d1-46a1-d8d3-dc6371ecddde"
      },
      "execution_count": null,
      "outputs": [
        {
          "output_type": "stream",
          "name": "stdout",
          "text": [
            "[0. 0. 0. 0. 0. 0. 0. 0. 0. 0.]\n"
          ]
        }
      ]
    },
    {
      "cell_type": "code",
      "source": [
        "array1 = np.ones(10)\n",
        "print(array1)\n",
        "array5 = array1*5\n",
        "print(array5)\n",
        "print(array1)"
      ],
      "metadata": {
        "colab": {
          "base_uri": "https://localhost:8080/"
        },
        "id": "DdPM6-c-mLD2",
        "outputId": "0fea48df-d00b-4cbc-e043-96efa90eda65"
      },
      "execution_count": null,
      "outputs": [
        {
          "output_type": "stream",
          "name": "stdout",
          "text": [
            "[1. 1. 1. 1. 1. 1. 1. 1. 1. 1.]\n",
            "[5. 5. 5. 5. 5. 5. 5. 5. 5. 5.]\n",
            "[1. 1. 1. 1. 1. 1. 1. 1. 1. 1.]\n"
          ]
        }
      ]
    },
    {
      "cell_type": "code",
      "source": [
        "array2 = np.arange(10,51)\n",
        "print(array2)\n",
        "arrayeven = array2[array2%2 == 0]\n",
        "print(arrayeven)"
      ],
      "metadata": {
        "colab": {
          "base_uri": "https://localhost:8080/"
        },
        "id": "uMex7VhrnS5T",
        "outputId": "62d61213-b37e-4cb6-c6d7-c6deff299a7e"
      },
      "execution_count": null,
      "outputs": [
        {
          "output_type": "stream",
          "name": "stdout",
          "text": [
            "[10 11 12 13 14 15 16 17 18 19 20 21 22 23 24 25 26 27 28 29 30 31 32 33\n",
            " 34 35 36 37 38 39 40 41 42 43 44 45 46 47 48 49 50]\n",
            "[10 12 14 16 18 20 22 24 26 28 30 32 34 36 38 40 42 44 46 48 50]\n"
          ]
        }
      ]
    },
    {
      "cell_type": "code",
      "source": [
        "array3by3 = np.arange(0,9).reshape(3,3)\n",
        "print(array3by3)"
      ],
      "metadata": {
        "colab": {
          "base_uri": "https://localhost:8080/"
        },
        "id": "4zRV2cYsoMjL",
        "outputId": "48b23e3b-bb05-4a5a-f8a5-03c10ae1d617"
      },
      "execution_count": null,
      "outputs": [
        {
          "output_type": "stream",
          "name": "stdout",
          "text": [
            "[[0 1 2]\n",
            " [3 4 5]\n",
            " [6 7 8]]\n"
          ]
        }
      ]
    },
    {
      "cell_type": "code",
      "source": [
        "ident = np.eye(3,3)\n",
        "print(ident)"
      ],
      "metadata": {
        "colab": {
          "base_uri": "https://localhost:8080/"
        },
        "id": "VsYZQAy4srEf",
        "outputId": "4c567306-bcbf-4467-d5b7-fb2229c5bf67"
      },
      "execution_count": null,
      "outputs": [
        {
          "output_type": "stream",
          "name": "stdout",
          "text": [
            "[[1. 0. 0.]\n",
            " [0. 1. 0.]\n",
            " [0. 0. 1.]]\n"
          ]
        }
      ]
    },
    {
      "cell_type": "code",
      "source": [
        "np.random.rand(1)"
      ],
      "metadata": {
        "colab": {
          "base_uri": "https://localhost:8080/"
        },
        "id": "Y5k1XP5Ettik",
        "outputId": "6bff8d18-7442-4462-b2b9-f923ad8a06ee"
      },
      "execution_count": null,
      "outputs": [
        {
          "output_type": "execute_result",
          "data": {
            "text/plain": [
              "array([0.85594182])"
            ]
          },
          "metadata": {},
          "execution_count": 21
        }
      ]
    },
    {
      "cell_type": "markdown",
      "source": [
        "Generate 25 numbers from a sample random distribution"
      ],
      "metadata": {
        "id": "HgqXSIwZu2tg"
      }
    },
    {
      "cell_type": "code",
      "source": [
        "print(np.random.randn(25))"
      ],
      "metadata": {
        "colab": {
          "base_uri": "https://localhost:8080/"
        },
        "id": "FlGSPip_u-WA",
        "outputId": "f5f0fa37-9f44-4407-93d6-291c4f8989a6"
      },
      "execution_count": null,
      "outputs": [
        {
          "output_type": "stream",
          "name": "stdout",
          "text": [
            "[ 2.44656899e-01  4.43495339e-01 -1.38567181e+00 -4.99212206e-01\n",
            " -6.42057013e-01  2.46062441e+00  8.02735994e-01  8.86233593e-01\n",
            " -7.70937958e-01 -7.63179624e-01 -1.27834148e+00 -1.81778003e-01\n",
            "  1.32832741e+00 -3.15389009e-01 -1.07424279e+00 -2.35920323e-01\n",
            "  7.68387474e-01 -9.78307949e-01 -1.63296425e+00 -1.05589647e+00\n",
            " -2.13468537e+00 -9.24032853e-01 -6.87616396e-01 -3.64266436e-01\n",
            "  6.66295633e-04]\n"
          ]
        }
      ]
    },
    {
      "cell_type": "code",
      "source": [
        "print(np.arange(0.01,1.01,0.01).reshape(10,10))"
      ],
      "metadata": {
        "colab": {
          "base_uri": "https://localhost:8080/"
        },
        "id": "rQG6kgzjvn__",
        "outputId": "6e7cdc11-5e3c-4186-9395-1fb51f0b4d59"
      },
      "execution_count": null,
      "outputs": [
        {
          "output_type": "stream",
          "name": "stdout",
          "text": [
            "[[0.01 0.02 0.03 0.04 0.05 0.06 0.07 0.08 0.09 0.1 ]\n",
            " [0.11 0.12 0.13 0.14 0.15 0.16 0.17 0.18 0.19 0.2 ]\n",
            " [0.21 0.22 0.23 0.24 0.25 0.26 0.27 0.28 0.29 0.3 ]\n",
            " [0.31 0.32 0.33 0.34 0.35 0.36 0.37 0.38 0.39 0.4 ]\n",
            " [0.41 0.42 0.43 0.44 0.45 0.46 0.47 0.48 0.49 0.5 ]\n",
            " [0.51 0.52 0.53 0.54 0.55 0.56 0.57 0.58 0.59 0.6 ]\n",
            " [0.61 0.62 0.63 0.64 0.65 0.66 0.67 0.68 0.69 0.7 ]\n",
            " [0.71 0.72 0.73 0.74 0.75 0.76 0.77 0.78 0.79 0.8 ]\n",
            " [0.81 0.82 0.83 0.84 0.85 0.86 0.87 0.88 0.89 0.9 ]\n",
            " [0.91 0.92 0.93 0.94 0.95 0.96 0.97 0.98 0.99 1.  ]]\n"
          ]
        }
      ]
    },
    {
      "cell_type": "markdown",
      "source": [
        "Using linspace instead of arange"
      ],
      "metadata": {
        "id": "fKP1yBlx2YBx"
      }
    },
    {
      "cell_type": "code",
      "source": [
        "print(np.linspace(0.01,1,100).reshape(10,10))"
      ],
      "metadata": {
        "colab": {
          "base_uri": "https://localhost:8080/"
        },
        "id": "lQ_3eyhF3Fm6",
        "outputId": "e3127179-1225-42e5-dc93-4c57100b7ade"
      },
      "execution_count": null,
      "outputs": [
        {
          "output_type": "stream",
          "name": "stdout",
          "text": [
            "[[0.01 0.02 0.03 0.04 0.05 0.06 0.07 0.08 0.09 0.1 ]\n",
            " [0.11 0.12 0.13 0.14 0.15 0.16 0.17 0.18 0.19 0.2 ]\n",
            " [0.21 0.22 0.23 0.24 0.25 0.26 0.27 0.28 0.29 0.3 ]\n",
            " [0.31 0.32 0.33 0.34 0.35 0.36 0.37 0.38 0.39 0.4 ]\n",
            " [0.41 0.42 0.43 0.44 0.45 0.46 0.47 0.48 0.49 0.5 ]\n",
            " [0.51 0.52 0.53 0.54 0.55 0.56 0.57 0.58 0.59 0.6 ]\n",
            " [0.61 0.62 0.63 0.64 0.65 0.66 0.67 0.68 0.69 0.7 ]\n",
            " [0.71 0.72 0.73 0.74 0.75 0.76 0.77 0.78 0.79 0.8 ]\n",
            " [0.81 0.82 0.83 0.84 0.85 0.86 0.87 0.88 0.89 0.9 ]\n",
            " [0.91 0.92 0.93 0.94 0.95 0.96 0.97 0.98 0.99 1.  ]]\n"
          ]
        }
      ]
    },
    {
      "cell_type": "code",
      "source": [
        "print(np.linspace(0,1,20))"
      ],
      "metadata": {
        "colab": {
          "base_uri": "https://localhost:8080/"
        },
        "id": "U9vzF1ea3XXv",
        "outputId": "b6f311f6-1570-404c-de75-4f48974e66a3"
      },
      "execution_count": null,
      "outputs": [
        {
          "output_type": "stream",
          "name": "stdout",
          "text": [
            "[0.         0.05263158 0.10526316 0.15789474 0.21052632 0.26315789\n",
            " 0.31578947 0.36842105 0.42105263 0.47368421 0.52631579 0.57894737\n",
            " 0.63157895 0.68421053 0.73684211 0.78947368 0.84210526 0.89473684\n",
            " 0.94736842 1.        ]\n"
          ]
        }
      ]
    },
    {
      "cell_type": "code",
      "source": [
        "mat = np.arange(1,26).reshape(5,5)\n",
        "print(mat)\n",
        "print(mat[2:,1:])\n",
        "print(mat[3,4])\n"
      ],
      "metadata": {
        "colab": {
          "base_uri": "https://localhost:8080/"
        },
        "id": "gWfmWVq5IJmt",
        "outputId": "31b5549f-f90b-4be5-bd0e-7f4e4a367748"
      },
      "execution_count": 8,
      "outputs": [
        {
          "output_type": "stream",
          "name": "stdout",
          "text": [
            "[[ 1  2  3  4  5]\n",
            " [ 6  7  8  9 10]\n",
            " [11 12 13 14 15]\n",
            " [16 17 18 19 20]\n",
            " [21 22 23 24 25]]\n",
            "[[12 13 14 15]\n",
            " [17 18 19 20]\n",
            " [22 23 24 25]]\n",
            "20\n"
          ]
        }
      ]
    }
  ]
}