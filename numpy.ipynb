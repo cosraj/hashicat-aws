{
  "nbformat": 4,
  "nbformat_minor": 0,
  "metadata": {
    "colab": {
      "provenance": [],
      "collapsed_sections": [],
      "authorship_tag": "ABX9TyNNE/qK+0cSdZTHSnhU3DOZ",
      "include_colab_link": true
    },
    "kernelspec": {
      "name": "python3",
      "display_name": "Python 3"
    },
    "language_info": {
      "name": "python"
    }
  },
  "cells": [
    {
      "cell_type": "markdown",
      "metadata": {
        "id": "view-in-github",
        "colab_type": "text"
      },
      "source": [
        "<a href=\"https://colab.research.google.com/github/cosraj/hashicat-aws/blob/master/numpy.ipynb\" target=\"_parent\"><img src=\"https://colab.research.google.com/assets/colab-badge.svg\" alt=\"Open In Colab\"/></a>"
      ]
    },
    {
      "cell_type": "code",
      "execution_count": null,
      "metadata": {
        "colab": {
          "base_uri": "https://localhost:8080/"
        },
        "id": "DtWKO_Y6HGot",
        "outputId": "603e9890-77fa-481a-8730-ab6ce3173f64"
      },
      "outputs": [
        {
          "output_type": "execute_result",
          "data": {
            "text/plain": [
              "array([0, 1, 2, 3, 4, 5, 6, 7, 8, 9])"
            ]
          },
          "metadata": {},
          "execution_count": 1
        }
      ],
      "source": [
        "import numpy as np\n",
        "np.arange(0,10)\n"
      ]
    },
    {
      "cell_type": "markdown",
      "source": [
        "Array indexing"
      ],
      "metadata": {
        "id": "HGQhlHYqLx6v"
      }
    },
    {
      "cell_type": "code",
      "source": [
        "arr1 = np.arange(0,11)\n",
        "arr1\n",
        "np.sum(arr1)\n",
        "arr1[8:]"
      ],
      "metadata": {
        "colab": {
          "base_uri": "https://localhost:8080/"
        },
        "id": "sk2055bQL0Rx",
        "outputId": "00eaad9f-6589-415c-b6a2-33a19c83a2fa"
      },
      "execution_count": null,
      "outputs": [
        {
          "output_type": "execute_result",
          "data": {
            "text/plain": [
              "array([ 8,  9, 10])"
            ]
          },
          "metadata": {},
          "execution_count": 7
        }
      ]
    },
    {
      "cell_type": "markdown",
      "source": [
        "np.reshape() is a useful method for reshaping arrays"
      ],
      "metadata": {
        "id": "aSqvf8S7Z4VP"
      }
    },
    {
      "cell_type": "code",
      "source": [
        "arr = np.random.randint(0,25,10\n",
        "                        )"
      ],
      "metadata": {
        "id": "G6CrihGjZ8i3"
      },
      "execution_count": null,
      "outputs": []
    },
    {
      "cell_type": "code",
      "source": [
        "arr"
      ],
      "metadata": {
        "colab": {
          "base_uri": "https://localhost:8080/"
        },
        "id": "PY5YRItEaEI9",
        "outputId": "afe210cb-5752-4808-98e9-55a80e0da731"
      },
      "execution_count": null,
      "outputs": [
        {
          "output_type": "execute_result",
          "data": {
            "text/plain": [
              "array([ 3, 11, 14, 13, 22,  3, 16, 14,  2, 10])"
            ]
          },
          "metadata": {},
          "execution_count": 3
        }
      ]
    },
    {
      "cell_type": "code",
      "source": [
        "arr.reshape(2,5)\n",
        "arr.max()\n",
        "arr.argmax()"
      ],
      "metadata": {
        "colab": {
          "base_uri": "https://localhost:8080/"
        },
        "id": "8v4daWw3aaxs",
        "outputId": "a7f22f8d-af11-49cc-c29c-744952a3dd70"
      },
      "execution_count": null,
      "outputs": [
        {
          "output_type": "execute_result",
          "data": {
            "text/plain": [
              "4"
            ]
          },
          "metadata": {},
          "execution_count": 10
        }
      ]
    },
    {
      "cell_type": "markdown",
      "source": [
        "np.eye() method returns the identity matrix"
      ],
      "metadata": {
        "id": "kcfh614nHUfi"
      }
    },
    {
      "cell_type": "code",
      "source": [
        "np.eye(9)"
      ],
      "metadata": {
        "colab": {
          "base_uri": "https://localhost:8080/"
        },
        "id": "kfXPFGDgHYMi",
        "outputId": "3143ac98-23ef-4b1d-8c95-7967e3cdf153"
      },
      "execution_count": null,
      "outputs": [
        {
          "output_type": "execute_result",
          "data": {
            "text/plain": [
              "array([[1., 0., 0., 0., 0., 0., 0., 0., 0.],\n",
              "       [0., 1., 0., 0., 0., 0., 0., 0., 0.],\n",
              "       [0., 0., 1., 0., 0., 0., 0., 0., 0.],\n",
              "       [0., 0., 0., 1., 0., 0., 0., 0., 0.],\n",
              "       [0., 0., 0., 0., 1., 0., 0., 0., 0.],\n",
              "       [0., 0., 0., 0., 0., 1., 0., 0., 0.],\n",
              "       [0., 0., 0., 0., 0., 0., 1., 0., 0.],\n",
              "       [0., 0., 0., 0., 0., 0., 0., 1., 0.],\n",
              "       [0., 0., 0., 0., 0., 0., 0., 0., 1.]])"
            ]
          },
          "metadata": {},
          "execution_count": 3
        }
      ]
    },
    {
      "cell_type": "code",
      "source": [
        "arr2 = np.arange(0,10)\n",
        "print(\"Original Array\",arr2)\n",
        "slice_arr2 = arr2[0:5]\n",
        "print(\"Slice array\",slice_arr2)\n",
        "slice_arr2[:] = 100\n",
        "print(\"Slice array after broadcast\",slice_arr2)\n",
        "print(\"Original array also impacted by broadcasing \",arr2)\n",
        "arr3 = np.arange(0,10)\n",
        "print(\"another original array\", arr3)\n",
        "arr3_copy = arr3.copy()\n",
        "print(\"copy of arr3\", arr3_copy)\n",
        "arr3[:] = 100\n",
        "print(\"Original array after broadcast\", arr3)\n",
        "print(\"Copy is not changed due to broadcast \",arr3_copy)"
      ],
      "metadata": {
        "colab": {
          "base_uri": "https://localhost:8080/"
        },
        "id": "KekY00vnGsa9",
        "outputId": "596e81d9-737d-4b15-85ff-0b30fbc8974e"
      },
      "execution_count": null,
      "outputs": [
        {
          "output_type": "stream",
          "name": "stdout",
          "text": [
            "Original Array [0 1 2 3 4 5 6 7 8 9]\n",
            "Slice array [0 1 2 3 4]\n",
            "Slice array after broadcast [100 100 100 100 100]\n",
            "Original array also impacted by broadcasing  [100 100 100 100 100   5   6   7   8   9]\n",
            "another original array [0 1 2 3 4 5 6 7 8 9]\n",
            "copy of arr3 [0 1 2 3 4 5 6 7 8 9]\n",
            "Original array after broadcast [100 100 100 100 100 100 100 100 100 100]\n",
            "Copy is not changed due to broadcast  [0 1 2 3 4 5 6 7 8 9]\n"
          ]
        }
      ]
    },
    {
      "cell_type": "code",
      "source": [
        "arr_2d = np.array([[5,10,15],[20,25,30],[35,40,45]])\n",
        "print(\"2D array\", arr_2d)\n",
        "print(arr_2d[:2,1:])"
      ],
      "metadata": {
        "colab": {
          "base_uri": "https://localhost:8080/"
        },
        "id": "1OpDFmvxK7LL",
        "outputId": "1ac97928-0327-41e6-eeff-a28ff08dad93"
      },
      "execution_count": null,
      "outputs": [
        {
          "output_type": "stream",
          "name": "stdout",
          "text": [
            "2D array [[ 5 10 15]\n",
            " [20 25 30]\n",
            " [35 40 45]]\n",
            "[[10 15]\n",
            " [25 30]]\n"
          ]
        }
      ]
    },
    {
      "cell_type": "code",
      "source": [
        "arr4 = np.arange(0,25,5)\n",
        "print(arr4)\n",
        "arr5 = arr4[arr4 < 10]\n",
        "print(arr5)"
      ],
      "metadata": {
        "colab": {
          "base_uri": "https://localhost:8080/"
        },
        "id": "jIDyY3fkNF8h",
        "outputId": "7ed4429b-7d34-4854-d643-9ec80bc309e5"
      },
      "execution_count": null,
      "outputs": [
        {
          "output_type": "stream",
          "name": "stdout",
          "text": [
            "[ 0  5 10 15 20]\n",
            "[0 5]\n"
          ]
        }
      ]
    },
    {
      "cell_type": "code",
      "source": [
        "arr5 = np.arange(0,10)\n",
        "print(arr5)\n",
        "arr6 = arr5 * 5\n",
        "print(\"Multiplying an array with a scalar \",arr6)\n",
        "print(\"Multiplying an array with itself\",arr5 * arr5)"
      ],
      "metadata": {
        "colab": {
          "base_uri": "https://localhost:8080/"
        },
        "id": "xBLHIhzOQpZb",
        "outputId": "50e29d8a-1ba7-427b-c917-8f17a09e76cf"
      },
      "execution_count": null,
      "outputs": [
        {
          "output_type": "stream",
          "name": "stdout",
          "text": [
            "[0 1 2 3 4 5 6 7 8 9]\n",
            "Multiplying an array with a scalar  [ 0  5 10 15 20 25 30 35 40 45]\n",
            "Multiplying an array with itself [ 0  1  4  9 16 25 36 49 64 81]\n"
          ]
        }
      ]
    }
  ]
}